{
  "nbformat": 4,
  "nbformat_minor": 0,
  "metadata": {
    "colab": {
      "provenance": [],
      "authorship_tag": "ABX9TyOPIGXK3g6cGsSYcy+AY/Le",
      "include_colab_link": true
    },
    "kernelspec": {
      "name": "python3",
      "display_name": "Python 3"
    },
    "language_info": {
      "name": "python"
    }
  },
  "cells": [
    {
      "cell_type": "markdown",
      "metadata": {
        "id": "view-in-github",
        "colab_type": "text"
      },
      "source": [
        "<a href=\"https://colab.research.google.com/github/judeha/addnoise/blob/main/Insert.ipynb\" target=\"_parent\"><img src=\"https://colab.research.google.com/assets/colab-badge.svg\" alt=\"Open In Colab\"/></a>"
      ]
    },
    {
      "cell_type": "code",
      "execution_count": null,
      "metadata": {
        "id": "-mnvm-1vepNX"
      },
      "outputs": [],
      "source": [
        "# Frequency of alphabet\n",
        "import string\n",
        "lower = list(string.ascii_lowercase)\n",
        "upper = list(string.ascii_uppercase)\n",
        "\n",
        "alph = {}\n",
        "ALPH = {}\n",
        "frequency = [0.085, 0.0207, 0.0454, 0.0384, 0.11161, 0.0181, 0.0247, 0.03, 0.0754, 0.002, 0.011, 0.0549, 0.0301,\n",
        "            0.0665, 0.0716, 0.0317, 0.0196, 0.0758, 0.0574, 0.0695, 0.0363, 0.0101, 0.0129, 0.0029, 0.0178, 0.0027]"
      ]
    },
    {
      "cell_type": "code",
      "source": [
        "# Normalize\n",
        "m = max(frequency)\n",
        "\n",
        "def helper(n):\n",
        "  return n / m\n",
        "\n",
        "freq = list(map(helper, frequency))"
      ],
      "metadata": {
        "id": "7SNNnEC3hwHD"
      },
      "execution_count": null,
      "outputs": []
    },
    {
      "cell_type": "code",
      "source": [
        "for i in range(len(lower)):\n",
        "  alph.update({lower[i]: freq[i]})\n",
        "  ALPH.update({upper[i]: freq[i]})"
      ],
      "metadata": {
        "id": "gmq5hxXGhHI0"
      },
      "execution_count": null,
      "outputs": []
    },
    {
      "cell_type": "code",
      "source": [
        "# Mount and save\n",
        "from google.colab import drive\n",
        "drive.mount('/content/drive/')\n",
        "\n",
        "import pandas as pd\n",
        "import json\n",
        "\n",
        "alph = json.dumps(alph)\n",
        "ALPH = json.dumps(ALPH)\n",
        "\n",
        "with open('/content/drive/My Drive/Dell Lab/alph.json', 'w') as f:\n",
        "  f.write(alph)\n",
        "\n",
        "with open('/content/drive/My Drive/Dell Lab/ALPH.json', 'w') as f:\n",
        "  f.write(ALPH)"
      ],
      "metadata": {
        "id": "J5vaZPXeiplT"
      },
      "execution_count": null,
      "outputs": []
    }
  ]
}