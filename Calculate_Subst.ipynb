{
  "nbformat": 4,
  "nbformat_minor": 0,
  "metadata": {
    "colab": {
      "provenance": [],
      "collapsed_sections": [],
      "authorship_tag": "ABX9TyPthK7YQ7hZ4ob9wZVVs1e7",
      "include_colab_link": true
    },
    "kernelspec": {
      "name": "python3",
      "display_name": "Python 3"
    },
    "language_info": {
      "name": "python"
    }
  },
  "cells": [
    {
      "cell_type": "markdown",
      "metadata": {
        "id": "view-in-github",
        "colab_type": "text"
      },
      "source": [
        "<a href=\"https://colab.research.google.com/github/judeha/addnoise/blob/main/Calculate_Subst.ipynb\" target=\"_parent\"><img src=\"https://colab.research.google.com/assets/colab-badge.svg\" alt=\"Open In Colab\"/></a>"
      ]
    },
    {
      "cell_type": "code",
      "execution_count": 1,
      "metadata": {
        "colab": {
          "base_uri": "https://localhost:8080/"
        },
        "id": "C-dnmSMHXuxR",
        "outputId": "42a912c9-8a2e-4c11-fb1c-5b2badf6fcc2"
      },
      "outputs": [
        {
          "output_type": "stream",
          "name": "stdout",
          "text": [
            "Mounted at /content/drive/\n"
          ]
        }
      ],
      "source": [
        "# Drive setup\n",
        "from google.colab import drive, files\n",
        "drive.mount('/content/drive/')\n",
        "\n",
        "path=\"drive/My Drive/Dell Lab/\""
      ]
    },
    {
      "cell_type": "code",
      "source": [
        "# Import dependencies\n",
        "import numpy as np\n",
        "import pandas as pd\n",
        "import math\n",
        "import json\n",
        "import os"
      ],
      "metadata": {
        "id": "M-Zh_dlBY0uF"
      },
      "execution_count": 17,
      "outputs": []
    },
    {
      "cell_type": "code",
      "source": [
        "# Import error data from drive \n",
        "fp = path + 'error_counts.npy'\n",
        "\n",
        "counts = np.load(fp)\n",
        "\n",
        "a_subs = counts[ord('a')]\n",
        "\n",
        "for i, x in enumerate(a_subs):\n",
        "    if x != 0:\n",
        "        print('{}: {}'.format(chr(i), x))"
      ],
      "metadata": {
        "id": "MzZ4CqjhapKI"
      },
      "execution_count": null,
      "outputs": []
    },
    {
      "cell_type": "code",
      "source": [
        "# Import homoglyph list | not necessary anymore\n",
        "f = open(path + \"homoglyph_list.json\")\n",
        "\n",
        "homoglyph = pd.read_json(f)\n",
        "homoglyph = homoglyph.sort_values(by=[\"a\",\"b\"])\n",
        "print(homoglyph)"
      ],
      "metadata": {
        "id": "KYNSjWabdN-6"
      },
      "execution_count": null,
      "outputs": []
    },
    {
      "cell_type": "code",
      "source": [
        "# Import and reshape homoglyph list\n",
        "lst = pd.read_csv(path + 'homoglyph.csv')\n",
        "lst = lst.drop('Unnamed: 0', axis=1)\n",
        "\n",
        "df = pd.DataFrame(lst)\n",
        "homoglyph = pd.pivot_table(df, index='a', columns='b', values='sim_score', fill_value=0)\n",
        "\n",
        "print(homoglyph)"
      ],
      "metadata": {
        "id": "O8gf_260irR4"
      },
      "execution_count": null,
      "outputs": []
    },
    {
      "cell_type": "code",
      "source": [
        "# Calculate probability of substitution\n",
        "import statistics as stats\n",
        "from math import isnan\n",
        "\n",
        "err = 0.05\n",
        "\n",
        "# find sums of similarities \n",
        "sums = []\n",
        "\n",
        "# NOTE: not sure why iterrows doesn't work here\n",
        "for i in range(len(homoglyph.index)):\n",
        "  row = homoglyph.iloc[i]\n",
        "  lst = row.values.tolist()\n",
        "  lst = [x for x in lst if isnan(x)==False]\n",
        "  sums.append(sum(lst))\n",
        "\n",
        "print(sums)\n",
        "# standardize using max sum\n",
        "mx = max(sums)\n",
        "\n",
        "def helper(n):\n",
        "  return err * (n/mx)\n",
        "\n",
        "subst_prob = list(map(helper,sums))\n",
        "print(subst_prob)"
      ],
      "metadata": {
        "id": "g5YcQElzsI2M"
      },
      "execution_count": null,
      "outputs": []
    },
    {
      "cell_type": "code",
      "source": [
        "# Convert back to dataframe with labels\n",
        "labels = homoglyph.columns.values.tolist()\n",
        "arr = [labels, subst_prob]\n",
        "\n",
        "ref = pd.DataFrame(arr, columns=labels)\n",
        "ref.fillna(0)\n",
        "print(ref)"
      ],
      "metadata": {
        "id": "B5kO9nc_wBii"
      },
      "execution_count": null,
      "outputs": []
    },
    {
      "cell_type": "code",
      "source": [
        "# Normalize similarity scores to get CDFs\n",
        "def find_max(r):\n",
        "  return r.max(axis=0)\n",
        "\n",
        "def normalize(n, factor):\n",
        "  return n / factor\n",
        "\n",
        "homoglyph = homoglyph.apply(lambda row : normalize(row, find_max(row)), axis=1)\n",
        "print(homoglyph)"
      ],
      "metadata": {
        "id": "2iLpcJrox_gd"
      },
      "execution_count": null,
      "outputs": []
    },
    {
      "cell_type": "code",
      "source": [
        "# %reset_selective -f \"homoglyph\""
      ],
      "metadata": {
        "id": "BkrU_c9K_0lu"
      },
      "execution_count": null,
      "outputs": []
    },
    {
      "cell_type": "code",
      "source": [
        "from re import S\n",
        "from prompt_toolkit.layout.dummy import D\n",
        "# Sort similarity scores by CDFs for each char\n",
        "# Construct dict of dict of k,v pairs\n",
        "\n",
        "subst_cdf = {}\n",
        "for r in range(len(homoglyph.index)):\n",
        "  Dict = {}\n",
        "  for c in range(len(homoglyph.columns)):\n",
        "    Dict.update({homoglyph.iloc[r][c]: homoglyph.columns.values[c]})\n",
        "  s=dict(sorted(Dict.items()))\n",
        "  subst_cdf.update({homoglyph.index[r]: s})"
      ],
      "metadata": {
        "id": "hNb_chs6zBmr"
      },
      "execution_count": 24,
      "outputs": []
    },
    {
      "cell_type": "code",
      "source": [
        "subst_cdf = json.dumps(subst_cdf)\n",
        "subst_prob = ref.to_csv()\n",
        "\n",
        "with open('/content/drive/My Drive/Dell Lab/subst_cdf.json', 'w') as f:\n",
        "  f.write(subst_cdf)\n",
        "\n",
        "with open('/content/drive/My Drive/Dell Lab/subst_prob.csv', 'w') as f:\n",
        "  f.write(subst_prob)"
      ],
      "metadata": {
        "id": "_8ep4SFiS7Dk"
      },
      "execution_count": 30,
      "outputs": []
    }
  ]
}