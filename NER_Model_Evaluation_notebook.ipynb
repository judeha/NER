{
  "cells": [
    {
      "cell_type": "markdown",
      "metadata": {
        "id": "view-in-github",
        "colab_type": "text"
      },
      "source": [
        "<a href=\"https://colab.research.google.com/github/judeha/addnoise/blob/main/NER_Model_Evaluation_notebook.ipynb\" target=\"_parent\"><img src=\"https://colab.research.google.com/assets/colab-badge.svg\" alt=\"Open In Colab\"/></a>"
      ]
    },
    {
      "cell_type": "markdown",
      "source": [
        "# Setup"
      ],
      "metadata": {
        "id": "FoUCbn1QFbLJ"
      }
    },
    {
      "cell_type": "code",
      "execution_count": null,
      "metadata": {
        "id": "00EACpdH3Xvy"
      },
      "outputs": [],
      "source": [
        "!pip install transformers\n",
        "!pip install evaluate\n",
        "!pip install seqeval"
      ]
    },
    {
      "cell_type": "code",
      "source": [
        "from transformers import AutoTokenizer, AutoModelForTokenClassification\n",
        "import evaluate\n",
        "import torch\n",
        "import json\n",
        "from pprint import pformat\n",
        "from tqdm import tqdm\n",
        "from google.colab import drive\n",
        "drive.mount('/content/drive')"
      ],
      "metadata": {
        "id": "BbDXwhZnSbhc",
        "colab": {
          "base_uri": "https://localhost:8080/"
        },
        "outputId": "c83ab8ae-9fe9-446c-92db-1d9a8eb6adc1"
      },
      "execution_count": 65,
      "outputs": [
        {
          "output_type": "stream",
          "name": "stdout",
          "text": [
            "Drive already mounted at /content/drive; to attempt to forcibly remount, call drive.mount(\"/content/drive\", force_remount=True).\n"
          ]
        }
      ]
    },
    {
      "cell_type": "code",
      "source": [
        "#NEW\n",
        "import pandas as pd\n",
        "import numpy as np\n",
        "\n",
        "pred_vals = pd.DataFrame(columns=['index', 'max_index', 'max_value'])"
      ],
      "metadata": {
        "id": "WoE8z7ToJqS2"
      },
      "execution_count": 119,
      "outputs": []
    },
    {
      "cell_type": "code",
      "execution_count": 66,
      "metadata": {
        "id": "fQsiuoeX3eH5"
      },
      "outputs": [],
      "source": [
        "class TokenizerInfoSlow():\n",
        "  \"\"\"\n",
        "  Given string of text, creates an object containing information on\n",
        "  the characters, tokens, and words of that text;\n",
        "  this class is used for slow tokenizers, which do not have some\n",
        "  of this functionality already written\n",
        "  - A word is defined to be any consecutive sequence of alphanumeric characters\n",
        "    or any single non-alphanumeric and non-whitespace character\n",
        "  - All newlines are converted to spaces before running tokenizer to ensure\n",
        "    they are not included in the tokens; however, the method text() still\n",
        "    returns the original text\n",
        "  - The special classifcation and separator tokens (CLS and SEP) are added at\n",
        "    the beginning and end of the token sequence, respectively, as is expected\n",
        "    by BERT-based models\n",
        "  \"\"\"\n",
        "\n",
        "  @staticmethod\n",
        "  def __token_len(token):\n",
        "    \"\"\"\n",
        "    Given a token as a string from the tokenizer,\n",
        "    returns the number of characters in that token after undoing the\n",
        "    modifications that the tokenizer makes to the token, so that only\n",
        "    the characters originally present in the text are counted\n",
        "    \"\"\"\n",
        "    # Note that the below only handles the slow tokenizer used for BERTweet, since\n",
        "    # the rest of the models tested use fast tokenizers and therefore use\n",
        "    # the class TokenizerInfoFast\n",
        "    # Other slow tokenizers will need different ways of finding token length\n",
        "    return 1 if token == tokenizer.unk_token else len(token.replace('@@', ''))\n",
        "\n",
        "  def __init__(self, text):\n",
        "    # (The purpose of each instance variable is described in the subsequent methods in this class)\n",
        "    self.__text = text\n",
        "    # Ensure tokenizer ignores newlines\n",
        "    text = text.replace('\\n', ' ')\n",
        "    # Number of characters in each token; None for CLS and SEP tokens at beginning and end\n",
        "    token_lengths = [None] + [self.__token_len(t) for t in tokenizer.tokenize(text)] + [None]\n",
        "    # Number of tokens that make up the text\n",
        "    token_count = len(token_lengths)\n",
        "    self.__input_ids = tokenizer(text)['input_ids']\n",
        "    self.__word_ids = [[] for _ in range(token_count)]\n",
        "    self.__word_to_chars = []\n",
        "    self.__char_to_word = []\n",
        "    self.__token_to_chars = [None] * token_count\n",
        "    self.__char_to_token = [None] * len(text)\n",
        "\n",
        "    start_char_id = 0  # Index of starting character in current word\n",
        "    word_id = 0  # Index of current word\n",
        "    is_word_end = [False] * len(text)  # For each character in text, whether that character is the final character of a word\n",
        "    text_with_final_space = text + ' '  # Extra space added to end to ensure final word is properly processed\n",
        "    final_index = len(text)  # Index of the extra space\n",
        "    for i, c in enumerate(text_with_final_space):\n",
        "      if c.isalnum():  # Alphanumeric character -- indicates we are in the middle of a word\n",
        "        # Record index of word that the current character is in\n",
        "        self.__char_to_word.append(word_id)\n",
        "\n",
        "      else:  # Non-alphanumeric character -- indicates word boundary\n",
        "        if i > start_char_id:  # Indicates there was a word being processed before current character\n",
        "          # Since we have reached word boundary, the previous character finished the word\n",
        "          is_word_end[i-1] = True\n",
        "          # Record indices of starting and ending characters of that word\n",
        "          self.__word_to_chars.append((start_char_id, i))\n",
        "          # Update word index for current character\n",
        "          word_id += 1\n",
        "\n",
        "        if i == final_index:  # Reached end -- don't process the extra space\n",
        "          self.__word_count = word_id\n",
        "          break\n",
        "\n",
        "        # Record index of word that the current character is in; None if character is whitespace\n",
        "        self.__char_to_word.append(word_id if not c.isspace() else None)\n",
        "\n",
        "        if not c.isspace():  # Current character is neither alphanumeric nor whitespace (punctuation, etc.)\n",
        "          # The current character constitutes a single-character word\n",
        "          is_word_end[i] = True\n",
        "          # Record current character as its own word\n",
        "          self.__word_to_chars.append((i, i+1))\n",
        "          # Update word index for subsequent character\n",
        "          word_id += 1\n",
        "\n",
        "        # Set starting character of subsequent word\n",
        "        start_char_id = i + 1\n",
        "\n",
        "    start_char_id = 0  # Index of starting charcter in current token\n",
        "    token_char_count = 0  # Number of characters already processed in current token\n",
        "    token_id = 1  # Index of the current token -- starts at 1 to account for CLS at index 0\n",
        "    token_char_goal = token_lengths[token_id]  # Total number of characters in current token\n",
        "    last_token_id = token_count - 2  # Index of the last token before SEP\n",
        "    for i, c in enumerate(text):\n",
        "      # Ignore whitespace\n",
        "      if c.isspace():\n",
        "        start_char_id = i + 1\n",
        "        continue\n",
        "      self.__char_to_token[i] = token_id\n",
        "      token_char_count += 1\n",
        "      # Reached character that ends either a token or a word\n",
        "      if token_char_count == token_char_goal or is_word_end[i]:\n",
        "        # Add association between token index and word index\n",
        "        self.__word_ids[token_id].append(self.__char_to_word[i])\n",
        "        # If end of token, update/reset token properties\n",
        "        if token_char_count == token_char_goal:\n",
        "          self.__token_to_chars[token_id] = (start_char_id, i+1)\n",
        "          if token_id == last_token_id:\n",
        "            break\n",
        "          start_char_id = i + 1\n",
        "          token_id += 1\n",
        "          token_char_count = 0\n",
        "          token_char_goal = token_lengths[token_id]\n",
        "\n",
        "  def text(self):\n",
        "    \"\"\"\n",
        "    Returns the original string of text that was given when instantiating this class\n",
        "    \"\"\"\n",
        "    return self.__text\n",
        "\n",
        "  def input_ids(self):\n",
        "    \"\"\"\n",
        "    Returns an integer list containing the numerical representations of\n",
        "    each token when the text is run through the tokenizer;\n",
        "    these are the token represenations that are passed as input to the NER model\n",
        "    \"\"\"\n",
        "    return self.__input_ids\n",
        "\n",
        "  def word_ids(self):\n",
        "    \"\"\"\n",
        "    Returns list that indicates, for each token index,\n",
        "    the indices of all the words that contain that token\n",
        "    (so that each element of the list is itself a list)\n",
        "    \"\"\"\n",
        "    return self.__word_ids\n",
        "\n",
        "  def word_to_chars(self, i):\n",
        "    \"\"\"\n",
        "    Given word index, returns tuple containing the indices\n",
        "    of the starting and ending characters of that word\n",
        "    (with start included and end excluded, as is standard)\n",
        "    \"\"\"\n",
        "    return self.__word_to_chars[i]\n",
        "\n",
        "  def char_to_word(self, i):\n",
        "    \"\"\"\n",
        "    Given character index, returns index of word that contains that character;\n",
        "    None when character not in any word\n",
        "    \"\"\"\n",
        "    return self.__char_to_word[i]\n",
        "\n",
        "  def token_to_chars(self, i):\n",
        "    \"\"\"\n",
        "    Given token index, returns tuple containing the indices\n",
        "    of the starting and ending characters of that token\n",
        "    (with start included and end excluded, as is standard)\n",
        "    \"\"\"\n",
        "    return self.__token_to_chars[i]\n",
        "\n",
        "  def char_to_token(self, i):\n",
        "    \"\"\"\n",
        "    Given character index, returns index of token that contains that character;\n",
        "    None when token not in any word\n",
        "    \"\"\"\n",
        "    return self.__char_to_token[i]\n",
        "  \n",
        "  def word_count(self):\n",
        "    \"\"\"\n",
        "    Returns number of words in text\n",
        "    \"\"\"\n",
        "    return self.__word_count"
      ]
    },
    {
      "cell_type": "code",
      "source": [
        "class TokenizerInfoFast():\n",
        "  \"\"\"\n",
        "  Same as TokenizerInfoSlow, but for fast tokenizers\n",
        "  - A word is defined however the specified tokenizer defines it\n",
        "  - word_to_chars() and token_to_chars() return a CharSpan object rather\n",
        "    than a tuple, but this object is subscriptable in the same way as a tuple\n",
        "  \"\"\"\n",
        "  def __init__(self, text):\n",
        "    self.__text = text\n",
        "    self.__inputs = tokenizer(text.replace('\\n', ' '))\n",
        "\n",
        "  def text(self):\n",
        "    return self.__text\n",
        "\n",
        "  def input_ids(self):\n",
        "    return self.__inputs['input_ids']\n",
        "\n",
        "  def word_ids(self):\n",
        "    return [[i] for i in self.__inputs.word_ids()]\n",
        "\n",
        "  def word_to_chars(self, i):\n",
        "    return self.__inputs.word_to_chars(i)\n",
        "\n",
        "  def char_to_word(self, i):\n",
        "    return self.__inputs.char_to_word(i)\n",
        "\n",
        "  def token_to_chars(self, i):\n",
        "    return self.__inputs.token_to_chars(i)\n",
        "\n",
        "  def char_to_token(self, i):\n",
        "    return self.__inputs.char_to_token(i)\n",
        "  \n",
        "  def word_count(self):\n",
        "    return 1 + next((elt for elt in reversed(self.__inputs.word_ids()) if elt is not None), -1)"
      ],
      "metadata": {
        "id": "fcvlAf9PFXsm"
      },
      "execution_count": 67,
      "outputs": []
    },
    {
      "cell_type": "code",
      "source": [
        "def get_raw_predictions(input_ids_matrix, attention_mask_matrix):\n",
        "  \"\"\"\n",
        "  Given input token IDs and attention masks as 2D PyTorch tensors,\n",
        "  returns the NER model's predictions as a 3D list of logits\n",
        "  representing the likelihood of each token being a particular entity\n",
        "  \"\"\"\n",
        "  # Run each matrix row separately if split_input_matrices is True\n",
        "  if split_input_matrices:\n",
        "    return [\n",
        "      model(input_ids=ii_row.unsqueeze(0), attention_mask=am_row.unsqueeze(0)).logits.tolist()[0]\n",
        "      for ii_row, am_row in zip(input_ids_matrix, attention_mask_matrix)\n",
        "    ]\n",
        "  else:\n",
        "    return model(input_ids=input_ids_matrix, attention_mask=attention_mask_matrix).logits.tolist()"
      ],
      "metadata": {
        "id": "ybnO84T-FVfq"
      },
      "execution_count": 68,
      "outputs": []
    },
    {
      "cell_type": "code",
      "source": [
        "def get_pred_dict_partitions(inputs):\n",
        "  \"\"\"\n",
        "  Given inputs from tokenizer, returns the model's predictions using partition method\n",
        "  \"\"\"\n",
        "  if model_max_length % 4 != 0:\n",
        "    raise Exception(f'partition method relies on model_max_length being a multiple of 4, but model_max_length = {model_max_length}')\n",
        "  # List of numbers that tokens are converted into\n",
        "  input_ids = inputs.input_ids()\n",
        "  # PyTorch tensor of input_ids divided into partitions of the maximum size\n",
        "  # that the NER model can handle; padding added for incomplete partitions\n",
        "  partitioned_input_ids = torch.empty(0, model_max_length)\n",
        "  # Attention masks for each token in each partition\n",
        "  attention_mask = torch.empty(0, model_max_length)\n",
        "  # Index of SEP in input_ids\n",
        "  last = len(input_ids) - 1\n",
        "  # Start constructing partitions at the first token after CLS\n",
        "  start = 1 \n",
        "  while True:\n",
        "    # Index of the token at which to end the current partition\n",
        "    end = start + max_len_single_sentence\n",
        "    # Padding tokens to add to this partition\n",
        "    padding_len = max(0, end - last)\n",
        "    padding = [tokenizer.pad_token_id] * padding_len\n",
        "    # Construct partition with tokens in interval [start, end)\n",
        "    # Add CLS, SEP, and padding tokens as well\n",
        "    new_partition = [tokenizer.cls_token_id] + input_ids[start : min(end, last)] + [tokenizer.sep_token_id] + padding\n",
        "    # Attend to all tokens except padding tokens\n",
        "    new_attention_mask = [1] * (min(end, last) - start + 2) + [0] * padding_len\n",
        "    # Add to tensors of all partitions and attention masks\n",
        "    partitioned_input_ids = torch.cat((partitioned_input_ids, torch.tensor([new_partition])))\n",
        "    attention_mask = torch.cat((attention_mask, torch.tensor([new_attention_mask])))\n",
        "    if end >= last:\n",
        "      # Reached last token\n",
        "      break\n",
        "    # Find next partition, which overlaps\n",
        "    start += max_len_single_sentence // 2\n",
        "  partitioned_input_ids = partitioned_input_ids.int().to(device)\n",
        "  attention_mask = attention_mask.to(device)\n",
        "  # Note that padding_len now stores the number of padding tokens in the last partition\n",
        "\n",
        "  # Raw model predictions on all partitions\n",
        "  partition_predictions = get_raw_predictions(partitioned_input_ids, attention_mask)\n",
        "  # List of raw predictions for each token after reassembling partitions\n",
        "  predictions = []\n",
        "  # Index of last partition\n",
        "  last_part_i = len(partition_predictions) - 1\n",
        "  for part_i, part_pred in enumerate(partition_predictions):\n",
        "    # Since partitions overlap, take only the predictions for the tokens closest to the center of each partition\n",
        "    # In general, this means the tokens in the first one-fourth and last one-fourth\n",
        "    # of each partition are ignored; only the center one-half is used\n",
        "    # The exceptions are the first partition, which must have all its beginning tokens used,\n",
        "    # and the last partition, which must have all its ending tokens used (excluding padding)\n",
        "    start = 1 if part_i == 0 else 1 + model_max_length // 4\n",
        "    end = model_max_length - padding_len - 1 if part_i == last_part_i \\\n",
        "      else model_max_length - model_max_length // 4\n",
        "    predictions.extend(part_pred[start:end])\n",
        "  # Add list items corresponding to CLS and SEP tokens, although\n",
        "  # there are no prediction results to assign to them\n",
        "  predictions = [None] + predictions + [None]\n",
        "\n",
        "  # List of dictionaries of predictions, converted into IOB2 format\n",
        "  # Predictions of 'O' are not included\n",
        "  pred_dict = []\n",
        "  for i, pred in enumerate(predictions):\n",
        "    if pred == None:\n",
        "      continue\n",
        "    #NEW\n",
        "    #print('pred')\n",
        "    #print(pred)\n",
        "    #print('max(pred)')\n",
        "    #print(max(pred))\n",
        "    #print('pred.index(max(pred))')\n",
        "    #print(pred.index(max(pred)))\n",
        "    entity = id2label[pred.index(max(pred))]\n",
        "    if entity != 'O':\n",
        "      pred_dict.append({\n",
        "        'token index': i,\n",
        "        'entity': entity\n",
        "      })\n",
        "      #NEW\n",
        "      global pred_vals\n",
        "      df = pd.DataFrame({'index':[i],\n",
        "                         'max_index':[pred.index(max(pred))],\n",
        "                         'max_value':[max(pred)]})\n",
        "      pred_vals=pred_vals.append(df)  \n",
        "  \n",
        "  #NEW\n",
        "  #print('pred_dict')\n",
        "  #print(pred_dict)\n",
        "  return pred_dict"
      ],
      "metadata": {
        "id": "sPBTAHF5FTKk"
      },
      "execution_count": 146,
      "outputs": []
    },
    {
      "cell_type": "code",
      "source": [
        "def get_pred_dict_paragraphs(inputs):\n",
        "  \"\"\"\n",
        "  Given inputs from tokenizer, returns the model's predictions using paragraph method\n",
        "  \"\"\"\n",
        "  # Text of article (cleaned)\n",
        "  text = inputs.text()\n",
        "  # List of numbers that tokens are converted into\n",
        "  input_ids = inputs.input_ids()\n",
        "  # paragraph_input_ids is a PyTorch tensor containing input_ids divided into paragraphs if needed,\n",
        "  # and if not, containing only one element consisting of an undivided input_ids\n",
        "  if len(input_ids) <= model_max_length:\n",
        "    # No paragraphs needed -- contains undivided input_ids\n",
        "    paragraph_input_ids = torch.tensor([input_ids])\n",
        "    # Attend to all tokens\n",
        "    attention_mask = torch.tensor([[1] * len(input_ids)])\n",
        "    # Entire article considered to be one \"paragraph\"\n",
        "    paragraphs = [(1, len(input_ids) - 1)]\n",
        "  else:\n",
        "    # input_ids to be divided into paragraphs\n",
        "    # List of indices of start and end tokens of each paragraph\n",
        "    paragraphs = []\n",
        "    # Token index that starts current paragraph\n",
        "    start_token = 1\n",
        "    # Index of SEP token in input_ids\n",
        "    last_token = len(input_ids) - 1\n",
        "    is_last_paragraph = False\n",
        "    while not is_last_paragraph:\n",
        "      # Character index that starts current paragraph\n",
        "      start_char = inputs.token_to_chars(start_token)[0]\n",
        "      # Character index that ends current paragraph\n",
        "      end_char = text.find(paragraph_delimiter, start_char)\n",
        "      if end_char == -1:\n",
        "        # No more paragraph delimiters\n",
        "        end_char = len(text)\n",
        "      # Token index that ends current paragraph\n",
        "      end_token = None\n",
        "      # Push end_char beyond whitespaces to get end_token\n",
        "      while end_token is None:\n",
        "        if end_char == len(text):\n",
        "          is_last_paragraph = True\n",
        "          end_token = last_token\n",
        "          break\n",
        "        end_token = inputs.char_to_token(end_char)\n",
        "        end_char += 1\n",
        "      # Record paragraph\n",
        "      paragraphs.append((start_token, end_token))\n",
        "      # Update start_token for next paragraph\n",
        "      start_token = end_token\n",
        "    \n",
        "    # Number of tokens in the longest paragraph (excluding special tokens)\n",
        "    longest_paragraph_length = max(end - start for start, end in paragraphs)\n",
        "    if longest_paragraph_length > max_len_single_sentence:\n",
        "      raise Exception(f'paragraph exceeds token limit: paragraph has {longest_paragraph_length + 2} tokens (after special tokens are added), but model_max_length = {model_max_length}')\n",
        "\n",
        "    paragraph_input_ids = torch.empty(0, longest_paragraph_length + 2)\n",
        "    attention_mask = torch.empty(0, longest_paragraph_length + 2)\n",
        "    for start, end in paragraphs:\n",
        "      # Padding tokens to add to this paragraph\n",
        "      padding = [tokenizer.pad_token_id] * (longest_paragraph_length - (end - start))\n",
        "      # Construct paragraph with tokens in interval [start, end)\n",
        "      # Add CLS, SEP, and padding tokens as well\n",
        "      new_paragraph = [tokenizer.cls_token_id] + input_ids[start : end] + [tokenizer.sep_token_id] + padding\n",
        "      # Attend to all tokens except padding tokens\n",
        "      new_attention_mask = [1] * (end - start + 2) + [0] * (longest_paragraph_length - (end - start))\n",
        "      # Add to tensors of all paragraphs and attention masks\n",
        "      paragraph_input_ids = torch.cat((paragraph_input_ids, torch.tensor([new_paragraph])))\n",
        "      attention_mask = torch.cat((attention_mask, torch.tensor([new_attention_mask])))\n",
        "  \n",
        "  paragraph_input_ids = paragraph_input_ids.int().to(device)\n",
        "  attention_mask = attention_mask.to(device)\n",
        "\n",
        "  # Raw model predictions on all paragraphs\n",
        "  paragraph_predictions = get_raw_predictions(paragraph_input_ids, attention_mask)\n",
        "  # List of raw predictions for each token after reassembling paragraphs\n",
        "  predictions = []\n",
        "  for pred, (start, end) in zip(paragraph_predictions, paragraphs):\n",
        "    # Keep only the tokens we care about; ignore CLS, SEP, and padding tokens\n",
        "    predictions.extend(pred[1 : 1+end-start])\n",
        "  # Add list items corresponding to CLS and SEP tokens, although\n",
        "  # there are no prediction results to assign to them\n",
        "  predictions = [None] + predictions + [None]\n",
        "\n",
        "  # List of dictionaries of predictions, converted into IOB2 format\n",
        "  # Predictions of 'O' are not included\n",
        "  pred_dict = []\n",
        "  for i, pred in enumerate(predictions):\n",
        "    if pred == None:\n",
        "      continue\n",
        "    entity = id2label[pred.index(max(pred))]\n",
        "    if entity != 'O':\n",
        "      pred_dict.append({\n",
        "        'token index': i,\n",
        "        'entity': entity\n",
        "      })\n",
        "      #NEW\n",
        "      global pred_vals\n",
        "      df = pd.DataFrame({'index':[i],\n",
        "                         'max_index':[pred.index(max(pred))],\n",
        "                         'max_value':[max(pred)]})\n",
        "      pred_vals = pred_vals.append(df)  \n",
        "  \n",
        "  return pred_dict"
      ],
      "metadata": {
        "id": "s0IELk_RFQO1"
      },
      "execution_count": 147,
      "outputs": []
    },
    {
      "cell_type": "code",
      "source": [
        "def get_pred_dict(inputs):\n",
        "  \"\"\"\n",
        "  Given inputs from tokenizer, returns NER model's predictions as a list of dictionaries,\n",
        "  each with the following keys:\n",
        "  - 'token index': index of the token to which the predicted label is assigned\n",
        "  - 'entity': the predicted named entity label for that token, in IOB2 format; predictions of 'O' are not included\n",
        "  As noted, the list excludes tokens predicted as 'O'.\n",
        "  \"\"\"\n",
        "  if evaluation_method == 'partitions':\n",
        "    return get_pred_dict_partitions(inputs)\n",
        "  elif evaluation_method == 'paragraphs':\n",
        "    return get_pred_dict_paragraphs(inputs)\n",
        "  else:\n",
        "    raise Exception(f'\"{evaluation_method}\" is an invalid setting for evaluation_method')"
      ],
      "metadata": {
        "id": "4TseCVtsFM62"
      },
      "execution_count": 148,
      "outputs": []
    },
    {
      "cell_type": "code",
      "source": [
        "def clean_ocr_text(text, basic, remove_list):\n",
        "  \"\"\"\n",
        "  Given \n",
        "  - string of text,\n",
        "  - whether (True/False) to do only basic newline cleaning, and\n",
        "  - the list of characters to remove (if basic=False),\n",
        "  returns a tuple containing\n",
        "  (1) the text after applying the desired cleaning operations, and\n",
        "  (2) a list of integers indicating, for each character in original text,\n",
        "      how many positions to the left that character is offset to arrive at cleaned text.\n",
        "  When basic is False, also replaces 'é', 'ï', 'ﬁ', and 'ﬂ'.\n",
        "  In all cases, hyphen-newline (\"-\\n\") sequences are removed, lone newlines are\n",
        "  converted to spaces, and sequences of consecutive newlines are kept unchanged\n",
        "  in order to indicate paragraph boundaries.\n",
        "  \"\"\"\n",
        "  # Code to deal with unwanted symbols\n",
        "  cleaned_text = text.replace(\"-\\n\", \"\")\n",
        "  if not basic:\n",
        "    cleaned_text = cleaned_text.replace(\"é\", \"e\").replace(\"ï\", \"i\").replace(\"ﬁ\", \"fi\").replace(\"ﬂ\", \"fl\")\n",
        "    cleaned_text = cleaned_text.translate({ord(x): '' for x in remove_list})\n",
        "    \n",
        "  # Code to deal with newline and double newline\n",
        "  z = 0\n",
        "  while z < (len(cleaned_text)-1):  # Check from the first to before last index\n",
        "        if cleaned_text[z] == \"\\n\" and cleaned_text[z+1] == \"\\n\":\n",
        "            z += 2\n",
        "        elif cleaned_text[z] == \"\\n\" and cleaned_text[z+1] != \"\\n\":\n",
        "            temp = list(cleaned_text)\n",
        "            temp[z] = \" \"\n",
        "            cleaned_text = \"\".join(temp)\n",
        "            z += 1\n",
        "        else:\n",
        "            z += 1\n",
        "  if cleaned_text[len(cleaned_text)-1] == \"\\n\" and cleaned_text[len(cleaned_text)-2] != \"\\n\":  # Check if the last index is a new line\n",
        "    temp = list(cleaned_text)\n",
        "    temp[len(cleaned_text)-1] = \" \"\n",
        "    cleaned_text = \"\".join(temp)  \n",
        "\n",
        "  # Code to adjust offsets  \n",
        "  offsets = []\n",
        "  cur_offset = 0\n",
        "  i = 0\n",
        "    \n",
        "  while i < len(text):\n",
        "    if i+1 < len(text) and text[i:i+2] == '-\\n':  # Found removed hyphen-newline\n",
        "      offsets.extend([cur_offset, cur_offset + 1])  # Make removed characters correspond with next character\n",
        "      cur_offset += 2  # Update offset for subsequent characters\n",
        "      i += 2  # Push forward beyond removed characters\n",
        "    else:\n",
        "      offsets.append(cur_offset)  # Record offset of non-removed character\n",
        "      i += 1  # Process next character\n",
        "  \n",
        "  if not basic:            \n",
        "    for j in range(len(text)):\n",
        "      if text[j] == \"ﬁ\" or text[j] == \"ﬂ\": \n",
        "          for a in range(j+1,len(text)):\n",
        "              offsets[a] = offsets[a] - 1  # Negative offsets for every char after a char replaced with two chars\n",
        "      elif text[j] in remove_list:\n",
        "          for a in range(j+1,len(text)):  # Positive offsets for every char after a removed char\n",
        "              offsets[a] = offsets[a] + 1\n",
        "      else:\n",
        "          j += 1\n",
        "         \n",
        "  return cleaned_text, offsets"
      ],
      "metadata": {
        "id": "FFsQEJ7BFHQS"
      },
      "execution_count": 72,
      "outputs": []
    },
    {
      "cell_type": "code",
      "source": [
        "def display_labels(words, gt_labels, pred_labels):\n",
        "  \"\"\"\n",
        "  Returns string displaying words alongside associated ground truth and predicted labels\n",
        "  \"\"\"\n",
        "  spacing = max(24, 4 + max([len(word) for word in words]))\n",
        "  gap1 = ' ' * (spacing - 5)\n",
        "  gap2 = ' ' * (spacing - 12)\n",
        "  display = 'words' + gap1 + 'ground truth' + gap2 + 'predictions' + '\\n'\n",
        "  for word, gt_label, pred_label in zip(words, gt_labels, pred_labels):\n",
        "    gap1 = ' ' * (spacing - len(word))\n",
        "    gap2 = ' ' * (spacing - len(gt_label))\n",
        "    display += word + gap1 + gt_label + gap2 + pred_label + '\\n'\n",
        "  return display"
      ],
      "metadata": {
        "id": "4Qqzqex7FEJ1"
      },
      "execution_count": 73,
      "outputs": []
    },
    {
      "cell_type": "code",
      "source": [
        "def get_labels(article_index, label_comparison_file):\n",
        "  \"\"\"\n",
        "  Given index of article in JSON file,\n",
        "  returns list of ground truth labels and list of model's predicted labels for each word in article;\n",
        "  as a side effect, writes the results to label_comparison_file for human inspection\n",
        "  \"\"\"\n",
        "\n",
        "  # Text of article after cleaning, and list of character offsets translating original text to cleaned text\n",
        "  text, offsets = clean_ocr_text(gt_full_file[article_index]['data']['text'], basic=basic_text_cleaning, remove_list=remove_list)\n",
        "  # Results of running tokenizer\n",
        "  inputs = TokenizerInfoFast(text) if tokenizer.is_fast else TokenizerInfoSlow(text)\n",
        "  # List associating each token with the indices of the words it's found in\n",
        "  word_ids = inputs.word_ids()\n",
        "  # Number of words in text\n",
        "  word_count = inputs.word_count()\n",
        "  # List of words in text\n",
        "  words = [text[inputs.word_to_chars(i)[0] : inputs.word_to_chars(i)[1]]\n",
        "           for i in range(word_count)]\n",
        "\n",
        "  # Extract label information from ground truth file\n",
        "  gt_dict_spans = []\n",
        "  gt_dict_spans_unprocessed = [\n",
        "    elt['value']\n",
        "    for elt in gt_full_file[article_index]['annotations'][0]['result']\n",
        "    if elt['type'] == 'labels'\n",
        "  ]\n",
        "  for elt in gt_dict_spans_unprocessed:\n",
        "    # Keep only desired labels\n",
        "    if elt['labels'][0] in desired_labels:\n",
        "      # Add offsets to account for cleaned text\n",
        "      gt_dict_spans.append({\n",
        "        'start': elt['start'] - offsets[elt['start']],\n",
        "        'end': elt['end'] - offsets[elt['end']],\n",
        "        'entity': elt['labels'][0]\n",
        "      })\n",
        "\n",
        "  # Get ground truth labels:\n",
        "  # Split gt_dict_spans so that gt_dict contains labels on a word-by-word basis\n",
        "  # rather than containing the entire span of labeled text representing a named entity;\n",
        "  # 'B-' and 'I-' prefixes are added to indicate spans\n",
        "  gt_dict = []\n",
        "  for elt in gt_dict_spans:\n",
        "    word_id = None\n",
        "    start = elt['start']\n",
        "    # Find the first word in current ground truth label (in case label begins with whitespace)\n",
        "    while word_id is None and start < elt['end']:\n",
        "      word_id = inputs.char_to_word(start)\n",
        "      start += 1\n",
        "    if word_id is None:\n",
        "      continue # Ignore label that contains only whitespace\n",
        "    is_beginning = True\n",
        "    # Separately record each word in label\n",
        "    while word_id < word_count and inputs.word_to_chars(word_id)[0] < elt['end']:\n",
        "      gt_dict.append({\n",
        "        'word index': word_id,\n",
        "        'entity': ('B-' if is_beginning else 'I-') + elt['entity']\n",
        "      })\n",
        "      word_id += 1\n",
        "      is_beginning = False\n",
        "\n",
        "  # Dictionary associating word ids with ground truth labels\n",
        "  word_to_gt = {elt['word index']: elt['entity'] for elt in gt_dict}\n",
        "  # List of ground truth labels; gt_labels[i] is label for word at index i, including 'O' label\n",
        "  gt_labels = [word_to_gt.get(word_id, 'O') for word_id in range(word_count)]\n",
        "\n",
        "  # Labels predicted by model\n",
        "  pred_dict = get_pred_dict(inputs)\n",
        "  # Keep only desired labels\n",
        "  pred_dict = [elt for elt in pred_dict if elt['entity'][2:] in desired_labels]\n",
        "\n",
        "  # Dictionary associating word ids with predicted labels\n",
        "  word_to_pred = {}\n",
        "  for elt in pred_dict:\n",
        "    # Consider each word that the current token is part of\n",
        "    for word_id in word_ids[elt['token index']]:\n",
        "      # Only the first label assigned to a word is used\n",
        "      if word_id not in word_to_pred:\n",
        "        word_to_pred[word_id] = elt['entity']\n",
        "  # List of predicted labels; pred_labels[i] is label for word at index i, including 'O' label\n",
        "  pred_labels = [word_to_pred.get(word_id, 'O') for word_id in range(word_count)]\n",
        "\n",
        "  # Remove non-alphanumeric words\n",
        "  words2 = []\n",
        "  gt_labels2 = []\n",
        "  pred_labels2 = []\n",
        "  gt_carry_begin = False\n",
        "  pred_carry_begin = False\n",
        "  for word, gt, pred in zip(words, gt_labels, pred_labels):\n",
        "    if any(c.isalnum() for c in word):\n",
        "      words2.append(word)\n",
        "      gt_labels2.append(gt if not gt_carry_begin or gt == 'O' else 'B' + gt[1:])\n",
        "      pred_labels2.append(pred if not pred_carry_begin or pred == 'O' else 'B' + pred[1:])\n",
        "      gt_carry_begin = False\n",
        "      pred_carry_begin = False\n",
        "    # Carry beginning tag to next token if the current tag is a beginning but is being removed\n",
        "    elif gt[0] == 'B':\n",
        "      gt_carry_begin = True\n",
        "    elif pred[0] == 'B':\n",
        "      pred_carry_begin = True\n",
        "\n",
        "  # Add information to label comparison file\n",
        "  label_comparison_file.write(\n",
        "    f'Article #{article_index}\\n'\n",
        "    + display_labels(words2, gt_labels2, pred_labels2) + '\\n'\n",
        "    + ('-' * 100 + '\\n') * 3 + '\\n'\n",
        "  )\n",
        "\n",
        "  return gt_labels2, pred_labels2"
      ],
      "metadata": {
        "id": "C_FF2kKqFAKg"
      },
      "execution_count": 74,
      "outputs": []
    },
    {
      "cell_type": "code",
      "source": [
        "def run_evaluation():\n",
        "  # Fill lists with labels from all articles\n",
        "  ground_truth = []\n",
        "  predictions = []\n",
        "  print(f'Evaluating {len(gt_full_file)} articles:')\n",
        "  with open(label_comparison_file_name, 'w') as label_comparison_file:\n",
        "    for article_index in tqdm(range(len(gt_full_file))):\n",
        "      gt, pred = get_labels(article_index, label_comparison_file)\n",
        "      ground_truth.append(gt)\n",
        "      predictions.append(pred)\n",
        "      #NEW\n",
        "      #global ground_vals\n",
        "      #for ele in gt:\n",
        "        #temp = pd.DataFrame({'label': ele})\n",
        "        #ground_vals = ground_vals.append(temp)\n",
        "\n",
        "  # Lists of named entities\n",
        "  # Cares only about whether something is a named entity, ignoring its type\n",
        "  # (i.e., ignoring the distinction between PER vs. ORG vs. LOC vs. MISC)\n",
        "  ground_truth_general = [[entity[0] for entity in article] for article in ground_truth]\n",
        "  predictions_general = [[entity[0] for entity in article] for article in predictions]\n",
        "\n",
        "  # Calculate F1 score, precision, recall, accuracy\n",
        "  metrics = metric.compute(predictions=predictions, references=ground_truth)\n",
        "  metrics_general = metric.compute(predictions=predictions_general, references=ground_truth_general)\n",
        "  summary = (\n",
        "    f'Model name: {model_name}\\n'\n",
        "    + f'Evaluation method: {f\"{model_max_length}-token \" if evaluation_method == \"partitions\" else \"\"}{evaluation_method}\\n\\n'\n",
        "    + f'Overall F1 score (stringent): {metrics[\"overall_f1\"]}\\n'\n",
        "    + f'Overall F1 score (ignoring entity type): {metrics_general[\"overall_f1\"]}\\n\\n'\n",
        "    + f'All metrics:\\n{pformat(metrics)}\\n\\n'\n",
        "    + f'All metrics (ignoring entity type):\\n{pformat(metrics_general)}'\n",
        "  )\n",
        "  # Print summary and add to file\n",
        "  print('\\n' + summary)\n",
        "  with open(label_comparison_file_name, 'r') as f:\n",
        "    existing_contents = f.read()\n",
        "  with open(label_comparison_file_name, 'w') as f:\n",
        "    f.write(summary + '\\n\\n\\n\\n')\n",
        "    f.write(existing_contents)"
      ],
      "metadata": {
        "id": "nU1uvNHoEDEp"
      },
      "execution_count": 177,
      "outputs": []
    },
    {
      "cell_type": "markdown",
      "source": [
        "# Parameters"
      ],
      "metadata": {
        "id": "Ltxnmq7xT4iJ"
      }
    },
    {
      "cell_type": "markdown",
      "source": [
        "* ``model_name``:\n",
        "  * Name of NER model to evaluate (such as a model name from Hugging Face)\n",
        "\n",
        "* ``tokenizer_name``:\n",
        "  * Name of tokenizer to use with NER model\n",
        "  * This is often identical to model_name, but this is different for some models (which happens when the creator of the model didn't specify this themselves)\n",
        "\n",
        "* ``id2label``:\n",
        "  * Dictionary mapping label IDs to label names for each model\n",
        "  * Set this to ``None`` in order to use the default value given by the model in ``model.config.id2label``\n",
        "  * However, if the creator of the model set ``model.config.id2label`` incorrectly, you will need to figure it out yourself and assign the correct dictionary to ``id2label``\n",
        "\n",
        "* ``evaluation method``:\n",
        "  * Specifies how to split articles in order to deal with token limits\n",
        "  * Can be set to either ``'partitions'`` or ``'paragraphs'``:\n",
        "    * ``'partitions'``: the text is split into overlapping partitions with a fixed number of tokens (specified in model_max_length)\n",
        "    * ``'paragraphs'``: the text is split into paragraphs\n",
        "\n",
        "* ``model_max_length``:\n",
        "  * If using partition method, set this to be the number of tokens to place in each partition (must be multiple of 4)\n",
        "  * If using paragraph method, simply specify the maximum number of tokens the model can handle at a time\n",
        "  * Do not set this in any case to be larger than the maximum number of tokens the NER model is set up to handle\n",
        "\n",
        "* ``ground_truth_file_name``:\n",
        "  * Path to JSON file with ground truth labels from Label Studio\n",
        "\n",
        "* ``label_comparison_file_name``:\n",
        "  * Path to text file in which to record evaluation results and side-by-side comparisons of ground truth and predicted labels\n",
        "  * This file is created by the program for you to inspect the results -- you don't need to provide this yourself\n",
        "  * (If you only provide a file name without specifying a path, you can find the file by clicking on the folder icon on the left sidebar in Colab.)\n",
        "\n",
        "* ``desired_labels``:\n",
        "  * The set of labels that will be considered when evaluating the model\n",
        "  * All other labels (in either the ground truth or the model predictions), if any, are ignored (considered to be O)\n",
        "\n",
        "* ``split_input_matrices``:\n",
        "  * Usually set this to False\n",
        "  * However, if the notebok is running out of memory, set this to True in order to run each row of the input matrices separately through the model, which increases runtime but gets around the memory issue\n",
        "  * This setting does not affect the final results -- it only trades off space vs. time while executing the code\n",
        "\n",
        "* ``basic_text_cleaning``:\n",
        "  * True: only handle newlines during text-cleaning stage; False: handle newlines and other characters\n",
        "\n",
        "* ``remove_list``:\n",
        "  * List of characters to remove if ``basic_text_cleaning`` is set to False\n",
        "  * (This is ignored if ``basic_text_cleaning`` is True)"
      ],
      "metadata": {
        "id": "Lrup0HfFWVTO"
      }
    },
    {
      "cell_type": "markdown",
      "source": [
        "If you test a model not listed here that uses a \"slow\" tokenizer, update the static method __token_len() in the class TokenizerInfoSlow."
      ],
      "metadata": {
        "id": "vHfjVOloAA1m"
      }
    },
    {
      "cell_type": "markdown",
      "source": [
        "Note that the following *warning* from the tokenizer can be safely ignored (this message will be printed when you run evaluation):\n",
        "\n",
        "``\"Token indices sequence length is longer than the specified maximum sequence length for this model. Running this sequence through the model will result in indexing errors\"``\n",
        "\n",
        "This program is set up to deal with that issue.\n",
        "\n",
        "(However, if you get an *exception*, then there is actually something wrong.)"
      ],
      "metadata": {
        "id": "Ox9gpnZt_mCo"
      }
    },
    {
      "cell_type": "markdown",
      "source": [
        "Re-run this cell to change the parameters."
      ],
      "metadata": {
        "id": "AYdljX1FypJp"
      }
    },
    {
      "cell_type": "code",
      "source": [
        "# NER model\n",
        "model_name = 'Davlan/bert-base-multilingual-cased-ner-hrl'\n",
        "tokenizer_name = model_name\n",
        "#CHANGE\n",
        "#id2label = None\n",
        "id2label = {0: 'O', 1: 'B-MISC', 2:'B-MISC', 3: 'B-PER', 4: 'I-PER', 5: 'B-ORG', 6: 'I-ORG', 7: 'B-LOC', 8: 'I-LOC'}\n",
        "#default: {0: 'O', 1: 'B-DATE', 2: 'I-DATE', 3: 'B-PER', 4: 'I-PER', 5: 'B-ORG', 6: 'I-ORG', 7: 'B-LOC', 8: 'I-LOC'}\n",
        "#davlan config, {0: 'B-LOC', 1: 'B-MISC', 2:'B-ORG', 3: 'B-PER', 4: 'I-LOC', 5: 'I-MISC', 6: 'I-ORG', 7: 'I-PER', 8: 'O'}\n",
        "\n",
        "# Evaluation method\n",
        "evaluation_method = 'partitions'\n",
        "model_max_length = 512\n",
        "\n",
        "# Files\n",
        "ground_truth_file_name = '/content/drive/My Drive/Dell Lab/ground_truth_672_articles/ground_truth_672_articles_test.json'\n",
        "label_comparison_file_name = 'label comparisons.txt'\n",
        "\n",
        "# Settings\n",
        "desired_labels = 'PER', 'ORG', 'LOC', 'MISC'\n",
        "split_input_matrices = False\n",
        "basic_text_cleaning = True\n",
        "remove_list = [\"#\",\"/\",\"*\",\"@\",\"~\",\"¢\",\"©\",\"®\",\"°\"]"
      ],
      "metadata": {
        "id": "qhrG7AlvTN3Y"
      },
      "execution_count": 195,
      "outputs": []
    },
    {
      "cell_type": "markdown",
      "source": [
        "# Evaluation"
      ],
      "metadata": {
        "id": "7raPYboDEtNg"
      }
    },
    {
      "cell_type": "markdown",
      "source": [
        "Re-run this cell after changing ``model_name`` or ``tokenizer_name``.\n",
        "\n",
        "If you made no change to ``model_name`` or ``tokenizer_name``, then you can just skip to the last cell to save a few seconds. (But there's also nothing wrong with re-running this cell every time.)"
      ],
      "metadata": {
        "id": "WoX2zzY1xyYM"
      }
    },
    {
      "cell_type": "code",
      "source": [
        "# Set GPU, if available\n",
        "device = 'cuda:0' if torch.cuda.is_available() else 'cpu'\n",
        "# The specified NER model\n",
        "model = AutoModelForTokenClassification.from_pretrained(model_name).to(device)\n",
        "# The specified tokenizer\n",
        "tokenizer = AutoTokenizer.from_pretrained(tokenizer_name)\n",
        "# Metric for evaluation (F1 score, etc.)\n",
        "metric = evaluate.load('seqeval')"
      ],
      "metadata": {
        "id": "rUw2T0kqTBSg"
      },
      "execution_count": 80,
      "outputs": []
    },
    {
      "cell_type": "markdown",
      "source": [
        "Run this cell to perform evaluation according to the parameters specified in the Parameters section."
      ],
      "metadata": {
        "id": "J45NCTmXxuww"
      }
    },
    {
      "cell_type": "code",
      "source": [
        "# Get contents of JSON file with ground truth labels\n",
        "with open(ground_truth_file_name, 'r') as f:\n",
        "  gt_full_file = json.load(f)\n",
        "\n",
        "# model_max_length excluding special tokens\n",
        "max_len_single_sentence = model_max_length - 2\n",
        "# Sequence that indicates paragraph break in text\n",
        "paragraph_delimiter = '\\n\\n'\n",
        "\n",
        "# Dictionary mapping label IDs to label names for each model\n",
        "# If None, simply use the dictionary provided by the model\n",
        "if id2label is None:\n",
        "  id2label = model.config.id2label\n",
        "\n",
        "\n",
        "# Perform model evaluation\n",
        "run_evaluation()"
      ],
      "metadata": {
        "id": "3rMieBhnEnuv",
        "colab": {
          "base_uri": "https://localhost:8080/"
        },
        "outputId": "936baafb-0033-40bd-8578-b977c9dc2f8f"
      },
      "execution_count": 197,
      "outputs": [
        {
          "output_type": "stream",
          "name": "stdout",
          "text": [
            "Evaluating 101 articles:\n"
          ]
        },
        {
          "output_type": "stream",
          "name": "stderr",
          "text": [
            "100%|██████████| 101/101 [00:51<00:00,  1.95it/s]\n"
          ]
        },
        {
          "output_type": "stream",
          "name": "stdout",
          "text": [
            "\n",
            "Model name: Davlan/bert-base-multilingual-cased-ner-hrl\n",
            "Evaluation method: 512-token partitions\n",
            "\n",
            "Overall F1 score (stringent): 0.6813186813186813\n",
            "Overall F1 score (ignoring entity type): 0.7424325811777654\n",
            "\n",
            "All metrics:\n",
            "{'LOC': {'f1': 0.7552083333333333,\n",
            "         'number': 550,\n",
            "         'precision': 0.7225913621262459,\n",
            "         'recall': 0.7909090909090909},\n",
            " 'MISC': {'f1': 0.0, 'number': 310, 'precision': 0.0, 'recall': 0.0},\n",
            " 'ORG': {'f1': 0.5919439579684763,\n",
            "         'number': 263,\n",
            "         'precision': 0.5487012987012987,\n",
            "         'recall': 0.6425855513307985},\n",
            " 'PER': {'f1': 0.791537025513379,\n",
            "         'number': 785,\n",
            "         'precision': 0.7737226277372263,\n",
            "         'recall': 0.8101910828025478},\n",
            " 'overall_accuracy': 0.9520377456625924,\n",
            " 'overall_f1': 0.6813186813186813,\n",
            " 'overall_precision': 0.7159353348729792,\n",
            " 'overall_recall': 0.649895178197065}\n",
            "\n",
            "All metrics (ignoring entity type):\n",
            "{'_': {'f1': 0.7424325811777654,\n",
            "       'number': 1908,\n",
            "       'precision': 0.7815758980301275,\n",
            "       'recall': 0.7070230607966457},\n",
            " 'overall_accuracy': 0.9621800349221682,\n",
            " 'overall_f1': 0.7424325811777654,\n",
            " 'overall_precision': 0.7815758980301275,\n",
            " 'overall_recall': 0.7070230607966457}\n"
          ]
        }
      ]
    },
    {
      "cell_type": "code",
      "source": [
        "#NEW\n",
        "#DISCERN MISC VS OTHER LABELS\n",
        "\n",
        "#pred_vals contains the index of model predictions excluding 'O'\n",
        "#ground truth indices don't line up well"
      ],
      "metadata": {
        "id": "8_RKZ77pJRdk"
      },
      "execution_count": null,
      "outputs": []
    },
    {
      "cell_type": "code",
      "source": [
        "pred_vals.head()"
      ],
      "metadata": {
        "colab": {
          "base_uri": "https://localhost:8080/",
          "height": 206
        },
        "id": "1KgROjlISj7g",
        "outputId": "8cf8b014-0eef-42d1-e523-e433f3e7322e"
      },
      "execution_count": 173,
      "outputs": [
        {
          "output_type": "execute_result",
          "data": {
            "text/plain": [
              "  index max_index  max_value\n",
              "0    12         3   7.866304\n",
              "0    13         4   6.097297\n",
              "0    14         4   8.404902\n",
              "0    16         7   9.633525\n",
              "0    26         5   9.333875"
            ],
            "text/html": [
              "\n",
              "  <div id=\"df-ece570e8-4de2-411a-9303-c28014eab4a5\">\n",
              "    <div class=\"colab-df-container\">\n",
              "      <div>\n",
              "<style scoped>\n",
              "    .dataframe tbody tr th:only-of-type {\n",
              "        vertical-align: middle;\n",
              "    }\n",
              "\n",
              "    .dataframe tbody tr th {\n",
              "        vertical-align: top;\n",
              "    }\n",
              "\n",
              "    .dataframe thead th {\n",
              "        text-align: right;\n",
              "    }\n",
              "</style>\n",
              "<table border=\"1\" class=\"dataframe\">\n",
              "  <thead>\n",
              "    <tr style=\"text-align: right;\">\n",
              "      <th></th>\n",
              "      <th>index</th>\n",
              "      <th>max_index</th>\n",
              "      <th>max_value</th>\n",
              "    </tr>\n",
              "  </thead>\n",
              "  <tbody>\n",
              "    <tr>\n",
              "      <th>0</th>\n",
              "      <td>12</td>\n",
              "      <td>3</td>\n",
              "      <td>7.866304</td>\n",
              "    </tr>\n",
              "    <tr>\n",
              "      <th>0</th>\n",
              "      <td>13</td>\n",
              "      <td>4</td>\n",
              "      <td>6.097297</td>\n",
              "    </tr>\n",
              "    <tr>\n",
              "      <th>0</th>\n",
              "      <td>14</td>\n",
              "      <td>4</td>\n",
              "      <td>8.404902</td>\n",
              "    </tr>\n",
              "    <tr>\n",
              "      <th>0</th>\n",
              "      <td>16</td>\n",
              "      <td>7</td>\n",
              "      <td>9.633525</td>\n",
              "    </tr>\n",
              "    <tr>\n",
              "      <th>0</th>\n",
              "      <td>26</td>\n",
              "      <td>5</td>\n",
              "      <td>9.333875</td>\n",
              "    </tr>\n",
              "  </tbody>\n",
              "</table>\n",
              "</div>\n",
              "      <button class=\"colab-df-convert\" onclick=\"convertToInteractive('df-ece570e8-4de2-411a-9303-c28014eab4a5')\"\n",
              "              title=\"Convert this dataframe to an interactive table.\"\n",
              "              style=\"display:none;\">\n",
              "        \n",
              "  <svg xmlns=\"http://www.w3.org/2000/svg\" height=\"24px\"viewBox=\"0 0 24 24\"\n",
              "       width=\"24px\">\n",
              "    <path d=\"M0 0h24v24H0V0z\" fill=\"none\"/>\n",
              "    <path d=\"M18.56 5.44l.94 2.06.94-2.06 2.06-.94-2.06-.94-.94-2.06-.94 2.06-2.06.94zm-11 1L8.5 8.5l.94-2.06 2.06-.94-2.06-.94L8.5 2.5l-.94 2.06-2.06.94zm10 10l.94 2.06.94-2.06 2.06-.94-2.06-.94-.94-2.06-.94 2.06-2.06.94z\"/><path d=\"M17.41 7.96l-1.37-1.37c-.4-.4-.92-.59-1.43-.59-.52 0-1.04.2-1.43.59L10.3 9.45l-7.72 7.72c-.78.78-.78 2.05 0 2.83L4 21.41c.39.39.9.59 1.41.59.51 0 1.02-.2 1.41-.59l7.78-7.78 2.81-2.81c.8-.78.8-2.07 0-2.86zM5.41 20L4 18.59l7.72-7.72 1.47 1.35L5.41 20z\"/>\n",
              "  </svg>\n",
              "      </button>\n",
              "      \n",
              "  <style>\n",
              "    .colab-df-container {\n",
              "      display:flex;\n",
              "      flex-wrap:wrap;\n",
              "      gap: 12px;\n",
              "    }\n",
              "\n",
              "    .colab-df-convert {\n",
              "      background-color: #E8F0FE;\n",
              "      border: none;\n",
              "      border-radius: 50%;\n",
              "      cursor: pointer;\n",
              "      display: none;\n",
              "      fill: #1967D2;\n",
              "      height: 32px;\n",
              "      padding: 0 0 0 0;\n",
              "      width: 32px;\n",
              "    }\n",
              "\n",
              "    .colab-df-convert:hover {\n",
              "      background-color: #E2EBFA;\n",
              "      box-shadow: 0px 1px 2px rgba(60, 64, 67, 0.3), 0px 1px 3px 1px rgba(60, 64, 67, 0.15);\n",
              "      fill: #174EA6;\n",
              "    }\n",
              "\n",
              "    [theme=dark] .colab-df-convert {\n",
              "      background-color: #3B4455;\n",
              "      fill: #D2E3FC;\n",
              "    }\n",
              "\n",
              "    [theme=dark] .colab-df-convert:hover {\n",
              "      background-color: #434B5C;\n",
              "      box-shadow: 0px 1px 3px 1px rgba(0, 0, 0, 0.15);\n",
              "      filter: drop-shadow(0px 1px 2px rgba(0, 0, 0, 0.3));\n",
              "      fill: #FFFFFF;\n",
              "    }\n",
              "  </style>\n",
              "\n",
              "      <script>\n",
              "        const buttonEl =\n",
              "          document.querySelector('#df-ece570e8-4de2-411a-9303-c28014eab4a5 button.colab-df-convert');\n",
              "        buttonEl.style.display =\n",
              "          google.colab.kernel.accessAllowed ? 'block' : 'none';\n",
              "\n",
              "        async function convertToInteractive(key) {\n",
              "          const element = document.querySelector('#df-ece570e8-4de2-411a-9303-c28014eab4a5');\n",
              "          const dataTable =\n",
              "            await google.colab.kernel.invokeFunction('convertToInteractive',\n",
              "                                                     [key], {});\n",
              "          if (!dataTable) return;\n",
              "\n",
              "          const docLinkHtml = 'Like what you see? Visit the ' +\n",
              "            '<a target=\"_blank\" href=https://colab.research.google.com/notebooks/data_table.ipynb>data table notebook</a>'\n",
              "            + ' to learn more about interactive tables.';\n",
              "          element.innerHTML = '';\n",
              "          dataTable['output_type'] = 'display_data';\n",
              "          await google.colab.output.renderOutput(dataTable, element);\n",
              "          const docLink = document.createElement('div');\n",
              "          docLink.innerHTML = docLinkHtml;\n",
              "          element.appendChild(docLink);\n",
              "        }\n",
              "      </script>\n",
              "    </div>\n",
              "  </div>\n",
              "  "
            ]
          },
          "metadata": {},
          "execution_count": 173
        }
      ]
    },
    {
      "cell_type": "code",
      "source": [
        "#Filter the pred_vals by prediction label\n",
        "b_per_vals = pred_vals[pred_vals['max_index']==3]\n",
        "i_per_vals = pred_vals[pred_vals['max_index']==4]\n",
        "b_org_vals = pred_vals[pred_vals['max_index']==5]\n",
        "i_org_vals = pred_vals[pred_vals['max_index']==6]\n",
        "b_loc_vals = pred_vals[pred_vals['max_index']==7]\n",
        "i_loc_vals = pred_vals[pred_vals['max_index']==8]"
      ],
      "metadata": {
        "id": "TeM2J6SYQPd_"
      },
      "execution_count": 185,
      "outputs": []
    },
    {
      "cell_type": "code",
      "source": [
        "print(b_per_vals)"
      ],
      "metadata": {
        "colab": {
          "base_uri": "https://localhost:8080/"
        },
        "id": "azo1w99DU0me",
        "outputId": "1f21a0ef-ee01-425f-bb2e-ae6d745ee56e"
      },
      "execution_count": 186,
      "outputs": [
        {
          "output_type": "stream",
          "name": "stdout",
          "text": [
            "   index max_index  max_value\n",
            "0     12         3   7.866304\n",
            "0    311         3   9.465340\n",
            "0     62         3   3.830435\n",
            "0     17         3   8.975758\n",
            "0     67         3   9.010013\n",
            "..   ...       ...        ...\n",
            "0    281         3  10.160903\n",
            "0    328         3   9.314310\n",
            "0    348         3   8.802324\n",
            "0    406         3  10.196835\n",
            "0    412         3  10.151518\n",
            "\n",
            "[4934 rows x 3 columns]\n"
          ]
        }
      ]
    },
    {
      "cell_type": "code",
      "source": [
        "b_per_vals.hist(column='max_value')"
      ],
      "metadata": {
        "colab": {
          "base_uri": "https://localhost:8080/",
          "height": 317
        },
        "id": "PQxBoAyEVAMZ",
        "outputId": "988e59f5-29a8-4e33-b9be-e1fcd1fd59c3"
      },
      "execution_count": 187,
      "outputs": [
        {
          "output_type": "execute_result",
          "data": {
            "text/plain": [
              "array([[<matplotlib.axes._subplots.AxesSubplot object at 0x7f5b84eab040>]],\n",
              "      dtype=object)"
            ]
          },
          "metadata": {},
          "execution_count": 187
        },
        {
          "output_type": "display_data",
          "data": {
            "text/plain": [
              "<Figure size 432x288 with 1 Axes>"
            ],
            "image/png": "[encoded data removed]"
          },
          "metadata": {
            "needs_background": "light"
          }
        }
      ]
    },
    {
      "cell_type": "code",
      "source": [
        "i_per_vals.hist(column='max_value')"
      ],
      "metadata": {
        "colab": {
          "base_uri": "https://localhost:8080/",
          "height": 317
        },
        "id": "dWTZCXV5VF-7",
        "outputId": "34bfb381-614f-4cf6-be11-e64bf693b842"
      },
      "execution_count": 188,
      "outputs": [
        {
          "output_type": "execute_result",
          "data": {
            "text/plain": [
              "array([[<matplotlib.axes._subplots.AxesSubplot object at 0x7f5b84d05340>]],\n",
              "      dtype=object)"
            ]
          },
          "metadata": {},
          "execution_count": 188
        },
        {
          "output_type": "display_data",
          "data": {
            "text/plain": [
              "<Figure size 432x288 with 1 Axes>"
            ],
            "image/png": "[encoded data removed]"
          },
          "metadata": {
            "needs_background": "light"
          }
        }
      ]
    },
    {
      "cell_type": "code",
      "source": [
        "b_org_vals.hist(column='max_value')"
      ],
      "metadata": {
        "colab": {
          "base_uri": "https://localhost:8080/",
          "height": 317
        },
        "id": "K9sZn1l9VG2R",
        "outputId": "7d267b79-70f2-48a9-b71c-36aa781817b4"
      },
      "execution_count": 189,
      "outputs": [
        {
          "output_type": "execute_result",
          "data": {
            "text/plain": [
              "array([[<matplotlib.axes._subplots.AxesSubplot object at 0x7f5b84d4b520>]],\n",
              "      dtype=object)"
            ]
          },
          "metadata": {},
          "execution_count": 189
        },
        {
          "output_type": "display_data",
          "data": {
            "text/plain": [
              "<Figure size 432x288 with 1 Axes>"
            ],
            "image/png": "[encoded data removed]"
          },
          "metadata": {
            "needs_background": "light"
          }
        }
      ]
    },
    {
      "cell_type": "code",
      "source": [
        "i_org_vals.hist(column='max_value')"
      ],
      "metadata": {
        "colab": {
          "base_uri": "https://localhost:8080/",
          "height": 317
        },
        "id": "MNQ3CluAVIWY",
        "outputId": "1c791e96-d567-4afa-d220-57ce66973633"
      },
      "execution_count": 190,
      "outputs": [
        {
          "output_type": "execute_result",
          "data": {
            "text/plain": [
              "array([[<matplotlib.axes._subplots.AxesSubplot object at 0x7f5b84a38580>]],\n",
              "      dtype=object)"
            ]
          },
          "metadata": {},
          "execution_count": 190
        },
        {
          "output_type": "display_data",
          "data": {
            "text/plain": [
              "<Figure size 432x288 with 1 Axes>"
            ],
            "image/png": "[encoded data removed]"
          },
          "metadata": {
            "needs_background": "light"
          }
        }
      ]
    },
    {
      "cell_type": "code",
      "source": [
        "b_loc_vals.hist(column='max_value')"
      ],
      "metadata": {
        "colab": {
          "base_uri": "https://localhost:8080/",
          "height": 317
        },
        "id": "j6sZWThbVKMW",
        "outputId": "1173b39e-5c85-4438-c172-35288efe634d"
      },
      "execution_count": 191,
      "outputs": [
        {
          "output_type": "execute_result",
          "data": {
            "text/plain": [
              "array([[<matplotlib.axes._subplots.AxesSubplot object at 0x7f5b84b4ca00>]],\n",
              "      dtype=object)"
            ]
          },
          "metadata": {},
          "execution_count": 191
        },
        {
          "output_type": "display_data",
          "data": {
            "text/plain": [
              "<Figure size 432x288 with 1 Axes>"
            ],
            "image/png": "[encoded data removed]"
          },
          "metadata": {
            "needs_background": "light"
          }
        }
      ]
    },
    {
      "cell_type": "code",
      "source": [
        "i_loc_vals.hist(column='max_value')"
      ],
      "metadata": {
        "colab": {
          "base_uri": "https://localhost:8080/",
          "height": 317
        },
        "id": "mAh2OoaOVLG_",
        "outputId": "3db9af94-b23d-4b8c-aa5a-ce8407e90d1b"
      },
      "execution_count": 192,
      "outputs": [
        {
          "output_type": "execute_result",
          "data": {
            "text/plain": [
              "array([[<matplotlib.axes._subplots.AxesSubplot object at 0x7f5b84957220>]],\n",
              "      dtype=object)"
            ]
          },
          "metadata": {},
          "execution_count": 192
        },
        {
          "output_type": "display_data",
          "data": {
            "text/plain": [
              "<Figure size 432x288 with 1 Axes>"
            ],
            "image/png": "[encoded data removed]"
          },
          "metadata": {
            "needs_background": "light"
          }
        }
      ]
    }
  ],
  "metadata": {
    "colab": {
      "provenance": [],
      "include_colab_link": true
    },
    "gpuClass": "standard",
    "kernelspec": {
      "display_name": "Python 3",
      "name": "python3"
    },
    "language_info": {
      "name": "python"
    },
    "accelerator": "GPU"
  },
  "nbformat": 4,
  "nbformat_minor": 0
}